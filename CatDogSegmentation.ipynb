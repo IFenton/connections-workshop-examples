{
 "cells": [
  {
   "cell_type": "code",
   "execution_count": null,
   "id": "5652ded2",
   "metadata": {},
   "outputs": [],
   "source": [
    "from scivision import default_catalog, load_pretrained_model\n",
    "from scivision import load_dataset\n",
    "import matplotlib.pyplot as plt"
   ]
  },
  {
   "cell_type": "markdown",
   "id": "dcd42bd9",
   "metadata": {},
   "source": [
    "## Query the scivision data catalog\n",
    "\n",
    "Given a model, look for compatible datasets."
   ]
  },
  {
   "cell_type": "code",
   "execution_count": null,
   "id": "1f076868",
   "metadata": {},
   "outputs": [],
   "source": [
    "# Look for datasets that are compatible with the segmentation model that you added\n",
    "compatible_datasources = default_catalog.compatible_datasources(\"catdog-segmentation\").to_dataframe()\n",
    "compatible_datasources"
   ]
  },
  {
   "cell_type": "markdown",
   "id": "65494c3d",
   "metadata": {},
   "source": [
    "Identify the dataset that we're interested in:"
   ]
  },
  {
   "cell_type": "code",
   "execution_count": null,
   "id": "d81f98e7",
   "metadata": {},
   "outputs": [],
   "source": [
    "target_datasource = compatible_datasources.loc[compatible_datasources['name'] == 'oxford-pet']\n",
    "target_datasource"
   ]
  },
  {
   "cell_type": "markdown",
   "id": "2fd0f55d",
   "metadata": {},
   "source": [
    "## Load the dataset"
   ]
  },
  {
   "cell_type": "code",
   "execution_count": null,
   "id": "a8737584",
   "metadata": {},
   "outputs": [],
   "source": [
    "data_url = target_datasource['url'].item()"
   ]
  },
  {
   "cell_type": "code",
   "execution_count": null,
   "id": "936bc7d2",
   "metadata": {},
   "outputs": [],
   "source": [
    "data_config = load_dataset(data_url)\n",
    "data_config"
   ]
  },
  {
   "cell_type": "code",
   "execution_count": null,
   "id": "3c8adc80",
   "metadata": {},
   "outputs": [],
   "source": [
    "images = data_config.oxford_pets().to_dask()"
   ]
  },
  {
   "cell_type": "code",
   "execution_count": null,
   "id": "7597cf68",
   "metadata": {},
   "outputs": [],
   "source": [
    "test_image = images[4000]"
   ]
  },
  {
   "cell_type": "code",
   "execution_count": null,
   "id": "51a96031",
   "metadata": {},
   "outputs": [],
   "source": [
    "plt.imshow(test_image)"
   ]
  },
  {
   "cell_type": "code",
   "execution_count": null,
   "id": "b5d5b3de",
   "metadata": {},
   "outputs": [],
   "source": [
    "type(test_image)"
   ]
  },
  {
   "cell_type": "markdown",
   "id": "3b22ad02",
   "metadata": {},
   "source": [
    "## Load segmentation model from Scivision"
   ]
  },
  {
   "cell_type": "code",
   "execution_count": null,
   "id": "7117e5ba",
   "metadata": {},
   "outputs": [],
   "source": [
    "# Get the model repo url\n",
    "models_catalog = default_catalog.models.to_dataframe()\n",
    "model_repo = models_catalog[models_catalog.name == \"catdog-segmentation\"].url.item()\n",
    "model_repo # Why not paste the repo link into your browser and see how it looks?"
   ]
  },
  {
   "cell_type": "code",
   "execution_count": null,
   "id": "f14f447c",
   "metadata": {},
   "outputs": [],
   "source": [
    "# Inspecting model entry and its metadata in the default catalog\n",
    "models_catalog[models_catalog.name == \"catdog-segmentation\""
   ]
  },
  {
   "cell_type": "code",
   "execution_count": null,
   "id": "df73d2b6",
   "metadata": {},
   "outputs": [],
   "source": [
    "catdog_classification_model = load_pretrained_model(model_repo, allow_install=True)"
   ]
  },
  {
   "cell_type": "code",
   "execution_count": null,
   "id": "4c08b123",
   "metadata": {},
   "outputs": [],
   "source": [
    "catdog_classification_model.predict(test_image)"
   ]
  }
 ],
 "metadata": {
  "kernelspec": {
   "display_name": "Python 3 (ipykernel)",
   "language": "python",
   "name": "python3"
  },
  "language_info": {
   "codemirror_mode": {
    "name": "ipython",
    "version": 3
   },
   "file_extension": ".py",
   "mimetype": "text/x-python",
   "name": "python",
   "nbconvert_exporter": "python",
   "pygments_lexer": "ipython3",
   "version": "3.9.13"
  }
 },
 "nbformat": 4,
 "nbformat_minor": 5
}
