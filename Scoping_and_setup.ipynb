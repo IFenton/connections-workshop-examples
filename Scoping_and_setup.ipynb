{
 "cells": [
  {
   "cell_type": "markdown",
   "id": "66694f96",
   "metadata": {},
   "source": [
    "# Hands-on session part 1: Scoping & set-up"
   ]
  },
  {
   "cell_type": "markdown",
   "id": "5680a5cb",
   "metadata": {},
   "source": [
    "In this hands-on session we will cover\n",
    "\n",
    "- Project scoping: What is it, what it involves and why it is important. \n",
    "- Introduction to Scivision\n",
    "- Work in groups:"
   ]
  },
  {
   "cell_type": "markdown",
   "id": "94b28f31",
   "metadata": {},
   "source": [
    "## Project Scoping\n",
    "\n",
    "A RSE / RDS projcet begins with an initial question or problem.This can originate from:\n",
    "- A research or business leader who wants to address a particular aspect.\n",
    "- A domain expert who observes some issue in their day-to-day work and questions how to address it.\n",
    "- An informal or formal discussion between various members of a team or unit that leads to an idea.\n",
    "- An external client with a specific request.\n",
    "- The availability of a new (often large-scale) dataset in a specific research domain.\n",
    "  \n",
    "These initial questions are often vague and moving to a well-defined project scope is the aim of the scoping process. This requires engagement with the stakeholders:\n",
    "- During the problem formulation and scoping phase we aim to answer a number of questions by having detailed and careful converstations with all of the stakeholders. \n",
    "- having an open dialogue across communities, expertise and often highly different academic cultures\n",
    "- needs building a welcoming and respectful environment as well as keeping careful documentation of all discussions and decisions\n",
    "- Negotiations are necessary to narrow down the scope: agree on what needs to be delivered and how.\n",
    "- Agreed and documented answers to the questions (project board)"
   ]
  },
  {
   "cell_type": "markdown",
   "id": "603b78b6",
   "metadata": {},
   "source": [
    "## What questions should teams ask themselves?\n",
    "\n",
    "Here, we list some important questions that come in handy when talking to stakeholders and trying to scope a project. This list is by no means exhaustive, but it should help you in the scoping part of the hands-on session. This topic is covered in more detail in our **Research Data Science Course** [link].\n",
    "\n",
    "### Question 1: What's the problem we are trying to solve?\n",
    "\n",
    "We want to understand the status quo (e.g. any existing solution or research or lack thereof) and what is missing or problematic, in other words the motivating problem behind the project. \n",
    "\n"
   ]
  },
  {
   "cell_type": "markdown",
   "id": "523928af",
   "metadata": {},
   "source": [
    "### Question 2: What is the specific research question? How does it translate to a data science / software engineering problem?\n",
    "    \n",
    "Starting from a possibly vague and broad challenge which sets the context, we want to help the researchers and domain experts clarify the scope of the project by:\n",
    "- Defining a specific research question\n",
    "- Translating the question into a well-defined data science or software engineering problem."
   ]
  },
  {
   "cell_type": "markdown",
   "id": "ad23e052",
   "metadata": {},
   "source": [
    "In projects where RSE / RDS collaborate wiht domain experts and researcher, there are often **knowledge gaps**:\n",
    "- Domain experts have a lot of knowledge about their area but: \n",
    "  - Often do not have a good grasp of data science methods and computing.\n",
    "  - Might not be able to translate what they want to a list of technical requirements and a plan to deliver the output.\n",
    "  - Might not understand how much time the technical work is likely to take.\n",
    "- Research data scientists have an understanding of data and analytics and software engineering but:\n",
    "  - Often are strangers to the domain area, without a good understanding of how the field operates, how data are generated (and their related complexities), what knowledge on previous interdisciplinary studies in the area etc. \n",
    "  - Might rush the scoping process to get on with the work, leading to gaps in understanding that can cost later."
   ]
  },
  {
   "cell_type": "markdown",
   "id": "8a7215f1",
   "metadata": {},
   "source": [
    "### Question 3: In case of data science projects: Is data available and appropriate?\n",
    "\n",
    "- **Data or questions first?** \n",
    "The dilemma of whether to first develop a research question and then find a dataset, or first select a known dataset and then develop the question is well-known. The default way to do science is the former, but at the same time data science as a field is driven by the availability in digital format of an unprecedented new amount of data. \n",
    "\n",
    "- **Can I legally use the data?** \n",
    "When a dataset has been selected, it is always essential to assess the copyright, data sharing agreement, sensitivity of the information contained and data collection policy of the selected resource. \n",
    " \n",
    "\n",
    "- **Is the data easily accessible?**\n",
    "    \n",
    "\n",
    "- **Is the dataset well-understood and tested?**\n",
    "\n",
    "\n",
    "- **Is data quality and quantity appropriate?**\n",
    "Along with finding the right data, the following factors should be taken into account and their impact on the present and future understood:\n",
    "   - What is the quality and quantity of the data?\n",
    "   - Will these change in the future? Will the data availability stay the same?"
   ]
  },
  {
   "cell_type": "markdown",
   "id": "f51b2533",
   "metadata": {},
   "source": [
    "### Question 4: What are the stakeholders' expectations?\n",
    "\n",
    "- **Stakeholder scepticism is common and has many reasons**\n",
    " \n",
    "- **Data scientists should think critically about the projects they are involved in and discuss concerns with stakeholders**    \n",
    "\n",
    "- **Data scientists should help moderate extreme expectations**\n",
    "   \n"
   ]
  },
  {
   "cell_type": "markdown",
   "id": "881706fa",
   "metadata": {},
   "source": [
    "### Question 5: How does the output product look like and how is it going to be used?\n",
    "\n",
    "This question often helps expose differences in understanding about the directon of the project between stakeholders. It is often the case that stakeholders have different ideas in mind about the final product or might not have a very well-shaped idea.\n",
    "- RSE / RDS can use their experience from past projects and their knowledge of the limits of their tools to define an output product that fulfils requirements but also is realisable.\n",
    "- It is usually good practice to define a **Minimum Viable Product (MVP)** which is a version of the output product with just enough features to be usable by early customers who can then provide feedback for future product development."
   ]
  },
  {
   "cell_type": "markdown",
   "id": "35d9cd8e",
   "metadata": {},
   "source": [
    "### Question 6: What is the state of the art?\n",
    "\n",
    "This question is important to understand what is already out there and what needs to be added. \n",
    "Important related questions include: \n",
    "- **Is there a system or method in place? Is there any documentation?**\n",
    "Researchers should do the necessary research to decide if their project will be incremental or create something from scratch.\n",
    "\n",
    "- **Is the goal of this project to go beyond the state of the art?** \n",
    "  If the goal is to build a system that would improve over a given state-of-the-art, it is important to understand how difficult and realistic this would be and communicate it to stakeholders. \n"
   ]
  },
  {
   "cell_type": "markdown",
   "id": "c2af7f28",
   "metadata": {},
   "source": [
    "### Question 7: What is in-scope and out-of-scope?\n",
    "\n",
    "One of the most common problems when formulating a research question or problem is that the scope is not defined, documented and controlled well and this causes problems and confusion later on. \n",
    "\n",
    "- During problem formulation, the scope needs to be documented clearly and agreed by all parties.\n",
    "- It is advisable to keep scope limited and small, especially for small projects.\n",
    "- Document what is out of scope. This helps bring a lot of issues to the surface early on and removes uncertainty.\n",
    "- Again, having defined a MVP would be really helpful at this stage.\n",
    "- A measure of success needs to be agreed.\n"
   ]
  },
  {
   "cell_type": "markdown",
   "id": "fd67e806",
   "metadata": {},
   "source": [
    "### Question 9: How do we measure the success of the project?\n",
    "\n",
    "- We should always aim to define a success metric. In many cases this should be quantitative and allow us to track how successive iterations change it, but there are exceptions.\n",
    "- We should define baseline models/systems. "
   ]
  },
  {
   "cell_type": "markdown",
   "id": "3f19a8d3",
   "metadata": {},
   "source": [
    "### Question 11: What computational resources are available?\n",
    "\n",
    "We need to make sure that computational requirement are covered. This typcially involves requesting access to cloud resources, databases, HPC infrastructure, secure environments, paying for compute time. "
   ]
  },
  {
   "cell_type": "markdown",
   "id": "428a2f0b",
   "metadata": {},
   "source": [
    "### Question 13: What are the timelines and milestones of the project?\n",
    "\n",
    "We should come up with a project plan that includes a timeline, milestones, risks, required human effort and defined roles for participants (including skills necessary and work required from each). These should be documented with agreement from all stakeholders.  "
   ]
  },
  {
   "cell_type": "markdown",
   "id": "10b74474",
   "metadata": {},
   "source": [
    "### Question 14: Ethical considerations\n",
    "\n",
    "This is a theme that should run throughout the scoping process. We should always try to think about our project through a lens that contains considerations about diversity, equity, inclusivity and wider ethics. As this is a really complex topic, but these are some first pointers:\n",
    "- Are there any ethical and legal concerns related to the activities of the project or the use of the data (e.g. individuals' data privacy, socioeconomic inequalities that may be exacerbated)?\n",
    "- What should be done to gain social license and public trust, e.g. a wider impact assessment and bias assessment to understand impact on communities and users.\n",
    "- Are there negative impacts on society or other parts of any of the involved organisations?\n",
    "- Are there any conflicts of interest?"
   ]
  },
  {
   "cell_type": "markdown",
   "id": "535f5aa2",
   "metadata": {},
   "source": [
    "\n",
    "  "
   ]
  }
 ],
 "metadata": {
  "interpreter": {
   "hash": "31f2aee4e71d21fbe5cf8b01ff0e069b9275f58929596ceb00d14d90e3e16cd6"
  },
  "kernelspec": {
   "display_name": "Python 3 (ipykernel)",
   "language": "python",
   "name": "python3"
  },
  "language_info": {
   "codemirror_mode": {
    "name": "ipython",
    "version": 3
   },
   "file_extension": ".py",
   "mimetype": "text/x-python",
   "name": "python",
   "nbconvert_exporter": "python",
   "pygments_lexer": "ipython3",
   "version": "3.7.13"
  }
 },
 "nbformat": 4,
 "nbformat_minor": 5
}
