{
 "cells": [
  {
   "cell_type": "code",
   "execution_count": 1,
   "id": "3627cb73",
   "metadata": {},
   "outputs": [],
   "source": [
    "from scivision import default_catalog, load_pretrained_model"
   ]
  },
  {
   "cell_type": "code",
   "execution_count": 2,
   "id": "86923cf3",
   "metadata": {},
   "outputs": [
    {
     "data": {
      "text/plain": [
       "AnyUrl('https://github.com/nbarlowATI/honeybee_model_repo', scheme='https', host='github.com', tld='com', host_type='domain', path='/nbarlowATI/honeybee_model_repo')"
      ]
     },
     "execution_count": 2,
     "metadata": {},
     "output_type": "execute_result"
    }
   ],
   "source": [
    "models_catalog = default_catalog.models.to_dataframe()\n",
    "model_repo = models_catalog[models_catalog.name == \"bee-species\"].url.item()\n",
    "model_repo # Why not paste the repo link into your browser and see how it looks?"
   ]
  },
  {
   "cell_type": "code",
   "execution_count": 3,
   "id": "e6b8065e",
   "metadata": {},
   "outputs": [
    {
     "data": {
      "text/html": [
       "<div>\n",
       "<style scoped>\n",
       "    .dataframe tbody tr th:only-of-type {\n",
       "        vertical-align: middle;\n",
       "    }\n",
       "\n",
       "    .dataframe tbody tr th {\n",
       "        vertical-align: top;\n",
       "    }\n",
       "\n",
       "    .dataframe thead th {\n",
       "        text-align: right;\n",
       "    }\n",
       "</style>\n",
       "<table border=\"1\" class=\"dataframe\">\n",
       "  <thead>\n",
       "    <tr style=\"text-align: right;\">\n",
       "      <th></th>\n",
       "      <th>name</th>\n",
       "      <th>description</th>\n",
       "      <th>tasks</th>\n",
       "      <th>url</th>\n",
       "      <th>pkg_url</th>\n",
       "      <th>format</th>\n",
       "      <th>pretrained</th>\n",
       "      <th>labels_required</th>\n",
       "      <th>institution</th>\n",
       "      <th>tags</th>\n",
       "    </tr>\n",
       "  </thead>\n",
       "  <tbody>\n",
       "    <tr>\n",
       "      <th>13</th>\n",
       "      <td>bee-species</td>\n",
       "      <td>None</td>\n",
       "      <td>(TaskEnum.classificiation,)</td>\n",
       "      <td>https://github.com/nbarlowATI/honeybee_model_repo</td>\n",
       "      <td>git+https://github.com/nbarlowATI/honeybee_mod...</td>\n",
       "      <td>image</td>\n",
       "      <td>True</td>\n",
       "      <td>False</td>\n",
       "      <td>(Alan Turing Institute,)</td>\n",
       "      <td>(bee,)</td>\n",
       "    </tr>\n",
       "  </tbody>\n",
       "</table>\n",
       "</div>"
      ],
      "text/plain": [
       "           name description                        tasks  \\\n",
       "13  bee-species        None  (TaskEnum.classificiation,)   \n",
       "\n",
       "                                                  url  \\\n",
       "13  https://github.com/nbarlowATI/honeybee_model_repo   \n",
       "\n",
       "                                              pkg_url format  pretrained  \\\n",
       "13  git+https://github.com/nbarlowATI/honeybee_mod...  image        True   \n",
       "\n",
       "    labels_required               institution    tags  \n",
       "13            False  (Alan Turing Institute,)  (bee,)  "
      ]
     },
     "execution_count": 3,
     "metadata": {},
     "output_type": "execute_result"
    }
   ],
   "source": [
    "# Inspecting model entry and its metadata in the default catalog\n",
    "models_catalog[models_catalog.name == \"bee-species\"]"
   ]
  },
  {
   "cell_type": "code",
   "execution_count": 4,
   "id": "4b5257c5",
   "metadata": {},
   "outputs": [
    {
     "name": "stdout",
     "output_type": "stream",
     "text": [
      "Collecting honeybee_model_repo\n",
      "  Cloning https://github.com/nbarlowATI/honeybee_model_repo (to revision main) to /private/var/folders/xs/3v3htz8s0f99__76nxm2c3cc0000gr/T/pip-install-7q5tlnl5/honeybee-model-repo_4ee8995c4ced4199a59882692151b00c\n"
     ]
    },
    {
     "name": "stderr",
     "output_type": "stream",
     "text": [
      "  Running command git clone --filter=blob:none --quiet https://github.com/nbarlowATI/honeybee_model_repo /private/var/folders/xs/3v3htz8s0f99__76nxm2c3cc0000gr/T/pip-install-7q5tlnl5/honeybee-model-repo_4ee8995c4ced4199a59882692151b00c\n"
     ]
    },
    {
     "name": "stdout",
     "output_type": "stream",
     "text": [
      "  Resolved https://github.com/nbarlowATI/honeybee_model_repo to commit dc524e10b0f65f96d1f857175d96f539a01281c2\n",
      "  Preparing metadata (setup.py): started\n",
      "  Preparing metadata (setup.py): finished with status 'done'\n",
      "Collecting numpy\n",
      "  Downloading numpy-1.23.3-cp38-cp38-macosx_11_0_arm64.whl (13.3 MB)\n",
      "     ━━━━━━━━━━━━━━━━━━━━━━━━━━━━━━━━━━━━━━━━ 13.3/13.3 MB 9.0 MB/s eta 0:00:00\n",
      "Collecting matplotlib\n",
      "  Downloading matplotlib-3.6.0-cp38-cp38-macosx_11_0_arm64.whl (7.2 MB)\n",
      "     ━━━━━━━━━━━━━━━━━━━━━━━━━━━━━━━━━━━━━━━━ 7.2/7.2 MB 8.9 MB/s eta 0:00:00\n",
      "Collecting pandas\n",
      "  Downloading pandas-1.5.0-cp38-cp38-macosx_11_0_arm64.whl (10.7 MB)\n",
      "     ━━━━━━━━━━━━━━━━━━━━━━━━━━━━━━━━━━━━━━━━ 10.7/10.7 MB 8.9 MB/s eta 0:00:00\n",
      "Collecting seaborn\n",
      "  Downloading seaborn-0.12.0-py3-none-any.whl (285 kB)\n",
      "     ━━━━━━━━━━━━━━━━━━━━━━━━━━━━━━━━━━━━━━ 285.1/285.1 kB 10.0 MB/s eta 0:00:00\n",
      "Collecting opencv-python\n",
      "  Downloading opencv_python-4.6.0.66-cp37-abi3-macosx_11_0_arm64.whl (30.0 MB)\n",
      "     ━━━━━━━━━━━━━━━━━━━━━━━━━━━━━━━━━━━━━━━━ 30.0/30.0 MB 8.8 MB/s eta 0:00:00\n",
      "Collecting sklearn\n",
      "  Downloading sklearn-0.0.tar.gz (1.1 kB)\n",
      "  Preparing metadata (setup.py): started\n",
      "  Preparing metadata (setup.py): finished with status 'done'\n"
     ]
    },
    {
     "name": "stderr",
     "output_type": "stream",
     "text": [
      "ERROR: Could not find a version that satisfies the requirement tensorflow (from honeybee-model-repo) (from versions: none)\n",
      "ERROR: No matching distribution found for tensorflow\n"
     ]
    },
    {
     "ename": "CalledProcessError",
     "evalue": "Command '['/Users/nbarlow/miniforge3/envs/kaggle-bee-env/bin/python3.8', '-m', 'pip', 'install', '--force-reinstall', '--no-cache-dir', 'git+https://github.com/nbarlowATI/honeybee_model_repo@main#egg=honeybee_model_repo']' returned non-zero exit status 1.",
     "output_type": "error",
     "traceback": [
      "\u001b[0;31m---------------------------------------------------------------------------\u001b[0m",
      "\u001b[0;31mCalledProcessError\u001b[0m                        Traceback (most recent call last)",
      "Cell \u001b[0;32mIn [4], line 1\u001b[0m\n\u001b[0;32m----> 1\u001b[0m model \u001b[38;5;241m=\u001b[39m \u001b[43mload_pretrained_model\u001b[49m\u001b[43m(\u001b[49m\u001b[43mmodel_repo\u001b[49m\u001b[43m,\u001b[49m\u001b[43m \u001b[49m\u001b[43mmodel\u001b[49m\u001b[38;5;241;43m=\u001b[39;49m\u001b[38;5;124;43m'\u001b[39;49m\u001b[38;5;124;43mefficientNetB3\u001b[39;49m\u001b[38;5;124;43m'\u001b[39;49m\u001b[43m,\u001b[49m\u001b[43m \u001b[49m\u001b[43mallow_install\u001b[49m\u001b[38;5;241;43m=\u001b[39;49m\u001b[38;5;28;43;01mTrue\u001b[39;49;00m\u001b[43m)\u001b[49m\n",
      "File \u001b[0;32m~/miniforge3/envs/kaggle-bee-env/lib/python3.8/site-packages/scivision/koala.py:57\u001b[0m, in \u001b[0;36mkoala.<locals>.wrapped_fn\u001b[0;34m(*args, **kwargs)\u001b[0m\n\u001b[1;32m     55\u001b[0m \u001b[38;5;66;03m# now call the function, but log any exceptions\u001b[39;00m\n\u001b[1;32m     56\u001b[0m \u001b[38;5;28;01mtry\u001b[39;00m:\n\u001b[0;32m---> 57\u001b[0m     output \u001b[38;5;241m=\u001b[39m \u001b[43mfn\u001b[49m\u001b[43m(\u001b[49m\u001b[38;5;241;43m*\u001b[39;49m\u001b[43margs\u001b[49m\u001b[43m,\u001b[49m\u001b[43m \u001b[49m\u001b[38;5;241;43m*\u001b[39;49m\u001b[38;5;241;43m*\u001b[39;49m\u001b[43mkwargs\u001b[49m\u001b[43m)\u001b[49m\n\u001b[1;32m     58\u001b[0m \u001b[38;5;28;01mexcept\u001b[39;00m \u001b[38;5;167;01mException\u001b[39;00m \u001b[38;5;28;01mas\u001b[39;00m e:\n\u001b[1;32m     59\u001b[0m     logger\u001b[38;5;241m.\u001b[39merror(e)\n",
      "File \u001b[0;32m~/miniforge3/envs/kaggle-bee-env/lib/python3.8/site-packages/scivision/io/reader.py:173\u001b[0m, in \u001b[0;36mload_pretrained_model\u001b[0;34m(path, branch, allow_install, model, load_multiple, *args, **kwargs)\u001b[0m\n\u001b[1;32m    170\u001b[0m     \u001b[38;5;28;01massert\u001b[39;00m \u001b[38;5;124m\"\u001b[39m\u001b[38;5;124mX\u001b[39m\u001b[38;5;124m\"\u001b[39m \u001b[38;5;129;01min\u001b[39;00m config[\u001b[38;5;124m\"\u001b[39m\u001b[38;5;124mprediction_fn\u001b[39m\u001b[38;5;124m\"\u001b[39m][\u001b[38;5;124m\"\u001b[39m\u001b[38;5;124margs\u001b[39m\u001b[38;5;124m\"\u001b[39m]\u001b[38;5;241m.\u001b[39mkeys()\n\u001b[1;32m    172\u001b[0m     \u001b[38;5;66;03m# try to install the package if necessary\u001b[39;00m\n\u001b[0;32m--> 173\u001b[0m     \u001b[43minstall_package\u001b[49m\u001b[43m(\u001b[49m\u001b[43mconfig\u001b[49m\u001b[43m,\u001b[49m\u001b[43m \u001b[49m\u001b[43mallow_install\u001b[49m\u001b[38;5;241;43m=\u001b[39;49m\u001b[43mallow_install\u001b[49m\u001b[43m,\u001b[49m\u001b[43m \u001b[49m\u001b[43mbranch\u001b[49m\u001b[38;5;241;43m=\u001b[39;49m\u001b[43mbranch\u001b[49m\u001b[43m)\u001b[49m\n\u001b[1;32m    175\u001b[0m     loaded_models\u001b[38;5;241m.\u001b[39mappend(PretrainedModel(config))\n\u001b[1;32m    176\u001b[0m \u001b[38;5;28;01mif\u001b[39;00m load_multiple:\n",
      "File \u001b[0;32m~/miniforge3/envs/kaggle-bee-env/lib/python3.8/site-packages/scivision/io/installer.py:51\u001b[0m, in \u001b[0;36minstall_package\u001b[0;34m(config, allow_install, branch)\u001b[0m\n\u001b[1;32m     46\u001b[0m exists \u001b[38;5;241m=\u001b[39m _package_exists(config)\n\u001b[1;32m     48\u001b[0m \u001b[38;5;28;01mif\u001b[39;00m allow_install \u001b[38;5;241m==\u001b[39m \u001b[38;5;124m\"\u001b[39m\u001b[38;5;124mforce\u001b[39m\u001b[38;5;124m\"\u001b[39m \u001b[38;5;129;01mor\u001b[39;00m (allow_install \u001b[38;5;129;01mand\u001b[39;00m \u001b[38;5;129;01mnot\u001b[39;00m exists):\n\u001b[1;32m     49\u001b[0m     \u001b[38;5;66;03m# if a package is not already installed, there is little harm\u001b[39;00m\n\u001b[1;32m     50\u001b[0m     \u001b[38;5;66;03m# to passing the extra arguments, so these cases are combined\u001b[39;00m\n\u001b[0;32m---> 51\u001b[0m     \u001b[43m_install\u001b[49m\u001b[43m(\u001b[49m\u001b[43mpackage\u001b[49m\u001b[43m,\u001b[49m\u001b[43m \u001b[49m\u001b[43mpip_install_args\u001b[49m\u001b[38;5;241;43m=\u001b[39;49m\u001b[43m[\u001b[49m\u001b[38;5;124;43m\"\u001b[39;49m\u001b[38;5;124;43m--force-reinstall\u001b[39;49m\u001b[38;5;124;43m\"\u001b[39;49m\u001b[43m,\u001b[49m\u001b[43m \u001b[49m\u001b[38;5;124;43m\"\u001b[39;49m\u001b[38;5;124;43m--no-cache-dir\u001b[39;49m\u001b[38;5;124;43m\"\u001b[39;49m\u001b[43m]\u001b[49m\u001b[43m)\u001b[49m\n\u001b[1;32m     52\u001b[0m \u001b[38;5;28;01melif\u001b[39;00m \u001b[38;5;129;01mnot\u001b[39;00m exists:\n\u001b[1;32m     53\u001b[0m     \u001b[38;5;28;01mraise\u001b[39;00m \u001b[38;5;167;01mException\u001b[39;00m(\n\u001b[1;32m     54\u001b[0m         \u001b[38;5;124m\"\u001b[39m\u001b[38;5;124mPackage does not exist. Try installing it with: \u001b[39m\u001b[38;5;130;01m\\n\u001b[39;00m\u001b[38;5;124m\"\u001b[39m\n\u001b[1;32m     55\u001b[0m         \u001b[38;5;124mf\u001b[39m\u001b[38;5;124m\"\u001b[39m\u001b[38;5;124m`!pip install -e \u001b[39m\u001b[38;5;132;01m{\u001b[39;00mpackage\u001b[38;5;132;01m}\u001b[39;00m\u001b[38;5;124m`\u001b[39m\u001b[38;5;124m\"\u001b[39m\n\u001b[1;32m     56\u001b[0m     )\n",
      "File \u001b[0;32m~/miniforge3/envs/kaggle-bee-env/lib/python3.8/site-packages/scivision/io/installer.py:34\u001b[0m, in \u001b[0;36m_install\u001b[0;34m(package, pip_install_args)\u001b[0m\n\u001b[1;32m     31\u001b[0m \u001b[38;5;28;01mif\u001b[39;00m pip_install_args \u001b[38;5;129;01mis\u001b[39;00m \u001b[38;5;28;01mNone\u001b[39;00m:\n\u001b[1;32m     32\u001b[0m     pip_install_args \u001b[38;5;241m=\u001b[39m []\n\u001b[0;32m---> 34\u001b[0m \u001b[43msubprocess\u001b[49m\u001b[38;5;241;43m.\u001b[39;49m\u001b[43mcheck_call\u001b[49m\u001b[43m(\u001b[49m\n\u001b[1;32m     35\u001b[0m \u001b[43m    \u001b[49m\u001b[43m[\u001b[49m\u001b[43msys\u001b[49m\u001b[38;5;241;43m.\u001b[39;49m\u001b[43mexecutable\u001b[49m\u001b[43m,\u001b[49m\u001b[43m \u001b[49m\u001b[38;5;124;43m\"\u001b[39;49m\u001b[38;5;124;43m-m\u001b[39;49m\u001b[38;5;124;43m\"\u001b[39;49m\u001b[43m,\u001b[49m\u001b[43m \u001b[49m\u001b[38;5;124;43m\"\u001b[39;49m\u001b[38;5;124;43mpip\u001b[39;49m\u001b[38;5;124;43m\"\u001b[39;49m\u001b[43m,\u001b[49m\u001b[43m \u001b[49m\u001b[38;5;124;43m\"\u001b[39;49m\u001b[38;5;124;43minstall\u001b[39;49m\u001b[38;5;124;43m\"\u001b[39;49m\u001b[43m,\u001b[49m\u001b[43m \u001b[49m\u001b[38;5;241;43m*\u001b[39;49m\u001b[43mpip_install_args\u001b[49m\u001b[43m,\u001b[49m\u001b[43m \u001b[49m\u001b[43mpackage\u001b[49m\u001b[43m]\u001b[49m\n\u001b[1;32m     36\u001b[0m \u001b[43m\u001b[49m\u001b[43m)\u001b[49m\n",
      "File \u001b[0;32m~/miniforge3/envs/kaggle-bee-env/lib/python3.8/subprocess.py:364\u001b[0m, in \u001b[0;36mcheck_call\u001b[0;34m(*popenargs, **kwargs)\u001b[0m\n\u001b[1;32m    362\u001b[0m     \u001b[38;5;28;01mif\u001b[39;00m cmd \u001b[38;5;129;01mis\u001b[39;00m \u001b[38;5;28;01mNone\u001b[39;00m:\n\u001b[1;32m    363\u001b[0m         cmd \u001b[38;5;241m=\u001b[39m popenargs[\u001b[38;5;241m0\u001b[39m]\n\u001b[0;32m--> 364\u001b[0m     \u001b[38;5;28;01mraise\u001b[39;00m CalledProcessError(retcode, cmd)\n\u001b[1;32m    365\u001b[0m \u001b[38;5;28;01mreturn\u001b[39;00m \u001b[38;5;241m0\u001b[39m\n",
      "\u001b[0;31mCalledProcessError\u001b[0m: Command '['/Users/nbarlow/miniforge3/envs/kaggle-bee-env/bin/python3.8', '-m', 'pip', 'install', '--force-reinstall', '--no-cache-dir', 'git+https://github.com/nbarlowATI/honeybee_model_repo@main#egg=honeybee_model_repo']' returned non-zero exit status 1."
     ]
    }
   ],
   "source": [
    "model = load_pretrained_model(model_repo, model='efficientNetB3', allow_install=True)"
   ]
  },
  {
   "cell_type": "code",
   "execution_count": null,
   "id": "7b3f0e0b",
   "metadata": {},
   "outputs": [],
   "source": []
  }
 ],
 "metadata": {
  "kernelspec": {
   "display_name": "Python 3 (ipykernel)",
   "language": "python",
   "name": "python3"
  },
  "language_info": {
   "codemirror_mode": {
    "name": "ipython",
    "version": 3
   },
   "file_extension": ".py",
   "mimetype": "text/x-python",
   "name": "python",
   "nbconvert_exporter": "python",
   "pygments_lexer": "ipython3",
   "version": "3.8.13"
  }
 },
 "nbformat": 4,
 "nbformat_minor": 5
}
