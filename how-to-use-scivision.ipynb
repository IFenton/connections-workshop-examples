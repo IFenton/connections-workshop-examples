{
 "cells": [
  {
   "cell_type": "markdown",
   "metadata": {},
   "source": [
    "# How to use `scivision`\n",
    "\n",
    "In this notebook, we will:\n",
    "\n",
    "1. Demonstrate using the scivision [Python API](https://scivision.readthedocs.io/en/latest/api.html) to load several pretrained image classification models\n",
    "2. Use the scivision catalog to find a matching dataset, which the model can be run on\n",
    "3. Run the model on the data, performing simple model inference\n",
    "4. Use the scivision catalog to find another model that can be run on the same dataset"
   ]
  },
  {
   "cell_type": "markdown",
   "metadata": {},
   "source": [
    "First let's import some things from scivision: `default_catalog` is a scivision **catalog** that will let us discover models and datasets, and `load_pretrained_model` provides a convenient way to load and run a model."
   ]
  },
  {
   "cell_type": "code",
   "execution_count": 1,
   "metadata": {},
   "outputs": [],
   "source": [
    "from scivision import default_catalog, load_pretrained_model"
   ]
  },
  {
   "cell_type": "markdown",
   "metadata": {},
   "source": [
    "## Inspecting our model in the scivision catalog\n",
    "\n",
    "A scivision catalog is a collection of **models** and **datasources**.\n",
    "\n",
    "For this example, we want to find datasources compatible with the model catalog entry \"image-classifiers\".  But first, let's use the catalog to retrive the \"image-classifiers\" repository url and take a look at the data contained in the *default catalog* (the built-in catalog, distributed as part of scivision) and see how this is structured."
   ]
  },
  {
   "cell_type": "code",
   "execution_count": 2,
   "metadata": {},
   "outputs": [
    {
     "data": {
      "text/plain": [
       "AnyUrl('https://github.com/alan-turing-institute/scivision_classifier', scheme='https', host='github.com', tld='com', host_type='domain', path='/alan-turing-institute/scivision_classifier')"
      ]
     },
     "execution_count": 2,
     "metadata": {},
     "output_type": "execute_result"
    }
   ],
   "source": [
    "# Get the model repo url\n",
    "models_catalog = default_catalog.models.to_dataframe()\n",
    "model_repo = models_catalog[models_catalog.name == \"image-classifiers\"].url.item()\n",
    "model_repo # Why not paste the repo link into your browser and see how it looks?"
   ]
  },
  {
   "cell_type": "code",
   "execution_count": 3,
   "metadata": {},
   "outputs": [
    {
     "data": {
      "text/html": [
       "<div>\n",
       "<style scoped>\n",
       "    .dataframe tbody tr th:only-of-type {\n",
       "        vertical-align: middle;\n",
       "    }\n",
       "\n",
       "    .dataframe tbody tr th {\n",
       "        vertical-align: top;\n",
       "    }\n",
       "\n",
       "    .dataframe thead th {\n",
       "        text-align: right;\n",
       "    }\n",
       "</style>\n",
       "<table border=\"1\" class=\"dataframe\">\n",
       "  <thead>\n",
       "    <tr style=\"text-align: right;\">\n",
       "      <th></th>\n",
       "      <th>name</th>\n",
       "      <th>description</th>\n",
       "      <th>tasks</th>\n",
       "      <th>url</th>\n",
       "      <th>pkg_url</th>\n",
       "      <th>format</th>\n",
       "      <th>pretrained</th>\n",
       "      <th>labels_required</th>\n",
       "      <th>institution</th>\n",
       "      <th>tags</th>\n",
       "    </tr>\n",
       "  </thead>\n",
       "  <tbody>\n",
       "    <tr>\n",
       "      <th>8</th>\n",
       "      <td>image-classifiers</td>\n",
       "      <td>None</td>\n",
       "      <td>(TaskEnum.classificiation,)</td>\n",
       "      <td>https://github.com/alan-turing-institute/scivi...</td>\n",
       "      <td>git+https://github.com/alan-turing-institute/s...</td>\n",
       "      <td>image</td>\n",
       "      <td>True</td>\n",
       "      <td>False</td>\n",
       "      <td>(alan-turing-institute,)</td>\n",
       "      <td>(classification, 2D, image)</td>\n",
       "    </tr>\n",
       "  </tbody>\n",
       "</table>\n",
       "</div>"
      ],
      "text/plain": [
       "                name description                        tasks  \\\n",
       "8  image-classifiers        None  (TaskEnum.classificiation,)   \n",
       "\n",
       "                                                 url  \\\n",
       "8  https://github.com/alan-turing-institute/scivi...   \n",
       "\n",
       "                                             pkg_url format  pretrained  \\\n",
       "8  git+https://github.com/alan-turing-institute/s...  image        True   \n",
       "\n",
       "   labels_required               institution                         tags  \n",
       "8            False  (alan-turing-institute,)  (classification, 2D, image)  "
      ]
     },
     "execution_count": 3,
     "metadata": {},
     "output_type": "execute_result"
    }
   ],
   "source": [
    "# Inspecting model entry and its metadata in the default catalog\n",
    "models_catalog[models_catalog.name == \"image-classifiers\"]"
   ]
  },
  {
   "cell_type": "markdown",
   "metadata": {},
   "source": [
    "## Loading the model\n",
    "\n",
    "Some model entries in the scivision catalog contain a single loadable model. Here, let's load the \"image-classifiers\" entry, which contains each of the models in the [image-classifiers](https://pypi.org/project/image-classifiers/) package. We can do this with the `load_pretrained_model` function. We'll load 2 models (`resnet18` and `densenet121`).\n",
    "\n",
    "Note: the \"model\" arg is not mandatory and will have a default value for any model catalog entries that have more than one model - for model catalog entries with a single model, this need not be set:"
   ]
  },
  {
   "cell_type": "code",
   "execution_count": 4,
   "metadata": {},
   "outputs": [],
   "source": [
    "# Note: when loading this model repo for the first time you'll need to add the allow_install=True flag\n",
    "resnet_model = load_pretrained_model(model_repo, model='resnet18', allow_install=True)\n",
    "densenet_model = load_pretrained_model(model_repo, model='densenet121', allow_install=True)"
   ]
  },
  {
   "cell_type": "code",
   "execution_count": 5,
   "metadata": {
    "pycharm": {
     "name": "#%%\n"
    }
   },
   "outputs": [
    {
     "data": {
      "text/plain": [
       "scivision.PretrainedModel( \n",
       "  module='scivision_classifier', \n",
       "  model='resnet18', \n",
       "  source='https://github.com/alan-turing-institute/scivision_classifier' \n",
       "  pipe='DataPipe(input=<Parameter \"X: numpy.ndarray\">, output=<Parameter \"image: numpy.ndarray\">)' \n",
       ")"
      ]
     },
     "execution_count": 5,
     "metadata": {},
     "output_type": "execute_result"
    }
   ],
   "source": [
    "# let's explore one of the model objects\n",
    "resnet_model"
   ]
  },
  {
   "cell_type": "markdown",
   "metadata": {},
   "source": [
    "Later, we'll use these models to make predictions on image data found in the scivision catalog."
   ]
  },
  {
   "cell_type": "markdown",
   "metadata": {},
   "source": [
    "## Query the default scivision data catalog"
   ]
  },
  {
   "cell_type": "markdown",
   "metadata": {},
   "source": [
    "Now let's use the `default_catalog` to identify datasources in the catalog that are compatible with our models (based on `tasks`, `format` and `labels_provided`/`labels_required`)."
   ]
  },
  {
   "cell_type": "code",
   "execution_count": 6,
   "metadata": {
    "scrolled": false
   },
   "outputs": [
    {
     "data": {
      "text/html": [
       "<div>\n",
       "<style scoped>\n",
       "    .dataframe tbody tr th:only-of-type {\n",
       "        vertical-align: middle;\n",
       "    }\n",
       "\n",
       "    .dataframe tbody tr th {\n",
       "        vertical-align: top;\n",
       "    }\n",
       "\n",
       "    .dataframe thead th {\n",
       "        text-align: right;\n",
       "    }\n",
       "</style>\n",
       "<table border=\"1\" class=\"dataframe\">\n",
       "  <thead>\n",
       "    <tr style=\"text-align: right;\">\n",
       "      <th></th>\n",
       "      <th>name</th>\n",
       "      <th>description</th>\n",
       "      <th>tasks</th>\n",
       "      <th>domains</th>\n",
       "      <th>url</th>\n",
       "      <th>format</th>\n",
       "      <th>labels_provided</th>\n",
       "      <th>institution</th>\n",
       "      <th>tags</th>\n",
       "    </tr>\n",
       "  </thead>\n",
       "  <tbody>\n",
       "    <tr>\n",
       "      <th>2</th>\n",
       "      <td>data-002</td>\n",
       "      <td>None</td>\n",
       "      <td>(TaskEnum.classificiation,)</td>\n",
       "      <td>(oceanography,)</td>\n",
       "      <td>https://github.com/scotthosking/intake-plankto...</td>\n",
       "      <td>image</td>\n",
       "      <td>True</td>\n",
       "      <td>(CEFAS,)</td>\n",
       "      <td>(help-needed, 2D)</td>\n",
       "    </tr>\n",
       "    <tr>\n",
       "      <th>3</th>\n",
       "      <td>data-003</td>\n",
       "      <td>Koala</td>\n",
       "      <td>(TaskEnum.object_detection, TaskEnum.classific...</td>\n",
       "      <td>(computer-vision,)</td>\n",
       "      <td>https://github.com/alan-turing-institute/scivi...</td>\n",
       "      <td>image</td>\n",
       "      <td>True</td>\n",
       "      <td>(Wikipedia by Erik Veland,)</td>\n",
       "      <td>(demo,)</td>\n",
       "    </tr>\n",
       "    <tr>\n",
       "      <th>4</th>\n",
       "      <td>data-004</td>\n",
       "      <td>Sample dataset of Plankton required to demonst...</td>\n",
       "      <td>(TaskEnum.classificiation,)</td>\n",
       "      <td>(computer-vision,)</td>\n",
       "      <td>https://raw.githubusercontent.com/alan-turing-...</td>\n",
       "      <td>image</td>\n",
       "      <td>True</td>\n",
       "      <td>(Centre for Environment, Fisheries and Aquacul...</td>\n",
       "      <td>(2D, plankton, ecology, environmental-science)</td>\n",
       "    </tr>\n",
       "    <tr>\n",
       "      <th>5</th>\n",
       "      <td>data-005</td>\n",
       "      <td>Sample dataset of satellite imagery required t...</td>\n",
       "      <td>(TaskEnum.classificiation, TaskEnum.segmentation)</td>\n",
       "      <td>(computer-vision, earth-observation, ecology)</td>\n",
       "      <td>https://github.com/MartinSJRogers/VEdge_Detect...</td>\n",
       "      <td>image</td>\n",
       "      <td>False</td>\n",
       "      <td>(Cambridge University,)</td>\n",
       "      <td>(2D, satellite, remote-sensing, ecology, envir...</td>\n",
       "    </tr>\n",
       "    <tr>\n",
       "      <th>7</th>\n",
       "      <td>data-007</td>\n",
       "      <td>A labelled dataset of honeybee images, from Ka...</td>\n",
       "      <td>(TaskEnum.classificiation,)</td>\n",
       "      <td>(nature, insects, bee-keeping)</td>\n",
       "      <td>https://github.com/pwochner/BeeImage_test</td>\n",
       "      <td>image</td>\n",
       "      <td>True</td>\n",
       "      <td>(alan-turing-institute,)</td>\n",
       "      <td>(bees, biology, classification)</td>\n",
       "    </tr>\n",
       "  </tbody>\n",
       "</table>\n",
       "</div>"
      ],
      "text/plain": [
       "       name                                        description  \\\n",
       "2  data-002                                               None   \n",
       "3  data-003                                              Koala   \n",
       "4  data-004  Sample dataset of Plankton required to demonst...   \n",
       "5  data-005  Sample dataset of satellite imagery required t...   \n",
       "7  data-007  A labelled dataset of honeybee images, from Ka...   \n",
       "\n",
       "                                               tasks  \\\n",
       "2                        (TaskEnum.classificiation,)   \n",
       "3  (TaskEnum.object_detection, TaskEnum.classific...   \n",
       "4                        (TaskEnum.classificiation,)   \n",
       "5  (TaskEnum.classificiation, TaskEnum.segmentation)   \n",
       "7                        (TaskEnum.classificiation,)   \n",
       "\n",
       "                                         domains  \\\n",
       "2                                (oceanography,)   \n",
       "3                             (computer-vision,)   \n",
       "4                             (computer-vision,)   \n",
       "5  (computer-vision, earth-observation, ecology)   \n",
       "7                 (nature, insects, bee-keeping)   \n",
       "\n",
       "                                                 url format  labels_provided  \\\n",
       "2  https://github.com/scotthosking/intake-plankto...  image             True   \n",
       "3  https://github.com/alan-turing-institute/scivi...  image             True   \n",
       "4  https://raw.githubusercontent.com/alan-turing-...  image             True   \n",
       "5  https://github.com/MartinSJRogers/VEdge_Detect...  image            False   \n",
       "7          https://github.com/pwochner/BeeImage_test  image             True   \n",
       "\n",
       "                                         institution  \\\n",
       "2                                           (CEFAS,)   \n",
       "3                        (Wikipedia by Erik Veland,)   \n",
       "4  (Centre for Environment, Fisheries and Aquacul...   \n",
       "5                            (Cambridge University,)   \n",
       "7                           (alan-turing-institute,)   \n",
       "\n",
       "                                                tags  \n",
       "2                                  (help-needed, 2D)  \n",
       "3                                            (demo,)  \n",
       "4     (2D, plankton, ecology, environmental-science)  \n",
       "5  (2D, satellite, remote-sensing, ecology, envir...  \n",
       "7                    (bees, biology, classification)  "
      ]
     },
     "execution_count": 6,
     "metadata": {},
     "output_type": "execute_result"
    }
   ],
   "source": [
    "compatible_datasources = default_catalog.compatible_datasources(\"image-classifiers\").to_dataframe()\n",
    "compatible_datasources"
   ]
  },
  {
   "cell_type": "markdown",
   "metadata": {},
   "source": [
    "Let's use `data-003`, an image dataset containing a single image of a Koala."
   ]
  },
  {
   "cell_type": "markdown",
   "metadata": {},
   "source": [
    "<div class=\"alert alert-block alert-info\">\n",
    "We use the honey bee data set data-007 that we uploaded to Github instead of the koala (although the koala is definitely cuter)\n",
    "</div> "
   ]
  },
  {
   "cell_type": "code",
   "execution_count": 7,
   "metadata": {
    "pycharm": {
     "name": "#%%\n"
    }
   },
   "outputs": [
    {
     "data": {
      "text/html": [
       "<div>\n",
       "<style scoped>\n",
       "    .dataframe tbody tr th:only-of-type {\n",
       "        vertical-align: middle;\n",
       "    }\n",
       "\n",
       "    .dataframe tbody tr th {\n",
       "        vertical-align: top;\n",
       "    }\n",
       "\n",
       "    .dataframe thead th {\n",
       "        text-align: right;\n",
       "    }\n",
       "</style>\n",
       "<table border=\"1\" class=\"dataframe\">\n",
       "  <thead>\n",
       "    <tr style=\"text-align: right;\">\n",
       "      <th></th>\n",
       "      <th>name</th>\n",
       "      <th>description</th>\n",
       "      <th>tasks</th>\n",
       "      <th>domains</th>\n",
       "      <th>url</th>\n",
       "      <th>format</th>\n",
       "      <th>labels_provided</th>\n",
       "      <th>institution</th>\n",
       "      <th>tags</th>\n",
       "    </tr>\n",
       "  </thead>\n",
       "  <tbody>\n",
       "    <tr>\n",
       "      <th>7</th>\n",
       "      <td>data-007</td>\n",
       "      <td>A labelled dataset of honeybee images, from Ka...</td>\n",
       "      <td>(TaskEnum.classificiation,)</td>\n",
       "      <td>(nature, insects, bee-keeping)</td>\n",
       "      <td>https://github.com/pwochner/BeeImage_test</td>\n",
       "      <td>image</td>\n",
       "      <td>True</td>\n",
       "      <td>(alan-turing-institute,)</td>\n",
       "      <td>(bees, biology, classification)</td>\n",
       "    </tr>\n",
       "  </tbody>\n",
       "</table>\n",
       "</div>"
      ],
      "text/plain": [
       "       name                                        description  \\\n",
       "7  data-007  A labelled dataset of honeybee images, from Ka...   \n",
       "\n",
       "                         tasks                         domains  \\\n",
       "7  (TaskEnum.classificiation,)  (nature, insects, bee-keeping)   \n",
       "\n",
       "                                         url format  labels_provided  \\\n",
       "7  https://github.com/pwochner/BeeImage_test  image             True   \n",
       "\n",
       "                institution                             tags  \n",
       "7  (alan-turing-institute,)  (bees, biology, classification)  "
      ]
     },
     "execution_count": 7,
     "metadata": {},
     "output_type": "execute_result"
    }
   ],
   "source": [
    "target_datasource = compatible_datasources.loc[compatible_datasources['name'] == 'data-007']\n",
    "target_datasource"
   ]
  },
  {
   "cell_type": "markdown",
   "metadata": {},
   "source": [
    "## Load the dataset\n",
    "\n",
    "Now let's load the dataset using the scivision python API, specifically the [load_dataset](https://scivision.readthedocs.io/en/latest/api.html#scivision.io.reader.load_dataset) function, which takes as input the url of the data repository (structured as per [this template](https://scivision.readthedocs.io/en/latest/data_repository_template.html)), which we can get from the target datasource:"
   ]
  },
  {
   "cell_type": "code",
   "execution_count": 8,
   "metadata": {},
   "outputs": [],
   "source": [
    "from scivision import load_dataset"
   ]
  },
  {
   "cell_type": "code",
   "execution_count": 9,
   "metadata": {},
   "outputs": [
    {
     "data": {
      "text/plain": [
       "AnyUrl('https://github.com/pwochner/BeeImage_test', scheme='https', host='github.com', tld='com', host_type='domain', path='/pwochner/BeeImage_test')"
      ]
     },
     "execution_count": 9,
     "metadata": {},
     "output_type": "execute_result"
    }
   ],
   "source": [
    "data_url = target_datasource['url'].item()\n",
    "data_url"
   ]
  },
  {
   "cell_type": "markdown",
   "metadata": {},
   "source": [
    "The returned data config object of the`load_dataset` function is an \"intake catalog\". You can read our [documentation](https://scivision.readthedocs.io/en/latest/data_repository_template.html#data-config-file) to understand this better, but for now, let's inspect this config:"
   ]
  },
  {
   "cell_type": "code",
   "execution_count": 10,
   "metadata": {},
   "outputs": [
    {
     "data": {
      "application/yaml": "data:\n  args:\n    path: https://raw.githubusercontent.com/pwochner/BeeImage_test/main/.scivision/data.yml\n  description: ''\n  driver: intake.catalog.local.YAMLFileCatalog\n  metadata: {}\n",
      "text/plain": [
       "data:\n",
       "  args:\n",
       "    path: https://raw.githubusercontent.com/pwochner/BeeImage_test/main/.scivision/data.yml\n",
       "  description: ''\n",
       "  driver: intake.catalog.local.YAMLFileCatalog\n",
       "  metadata: {}\n"
      ]
     },
     "metadata": {
      "application/json": {
       "root": "data"
      }
     },
     "output_type": "display_data"
    }
   ],
   "source": [
    "data_config = load_dataset(data_url)\n",
    "data_config"
   ]
  },
  {
   "cell_type": "code",
   "execution_count": 11,
   "metadata": {},
   "outputs": [
    {
     "name": "stderr",
     "output_type": "stream",
     "text": [
      "/Users/pwochner/opt/miniconda3/envs/scivision/lib/python3.9/site-packages/xarray/core/dataarray.py:1195: FutureWarning: None value for 'chunks' is deprecated. It will raise an error in the future. Use instead '{}'\n",
      "  warnings.warn(\n"
     ]
    }
   ],
   "source": [
    "images = data_config.honey_bees().to_dask()"
   ]
  },
  {
   "cell_type": "markdown",
   "metadata": {},
   "source": [
    "Clicking the `path` link to the location of this data config file online (in the dataset repo) reveals that there is one data source called `test_image`, and that the `intake_xarray.image.ImageSource` \"intake driver\" is being used. We can retrive the test image data in an image format which the model will accept, like so:"
   ]
  },
  {
   "cell_type": "code",
   "execution_count": 12,
   "metadata": {},
   "outputs": [],
   "source": [
    "test_image = images[0]"
   ]
  },
  {
   "cell_type": "markdown",
   "metadata": {},
   "source": [
    "Let's take a look at the image with `matplotlib`:"
   ]
  },
  {
   "cell_type": "code",
   "execution_count": 13,
   "metadata": {},
   "outputs": [],
   "source": [
    "import matplotlib.pyplot as plt"
   ]
  },
  {
   "cell_type": "code",
   "execution_count": 14,
   "metadata": {},
   "outputs": [
    {
     "data": {
      "text/plain": [
       "<matplotlib.image.AxesImage at 0x1760675e0>"
      ]
     },
     "execution_count": 14,
     "metadata": {},
     "output_type": "execute_result"
    },
    {
     "data": {
      "image/png": "[encoded data removed]",
      "text/plain": [
       "<Figure size 640x480 with 1 Axes>"
      ]
     },
     "metadata": {},
     "output_type": "display_data"
    }
   ],
   "source": [
    "plt.imshow(test_image)"
   ]
  },
  {
   "cell_type": "markdown",
   "metadata": {},
   "source": [
    "## Model predictions\n",
    "\n",
    "Now let's use the loaded model on the test image data we found in the via catalog."
   ]
  },
  {
   "cell_type": "code",
   "execution_count": 15,
   "metadata": {},
   "outputs": [
    {
     "name": "stdout",
     "output_type": "stream",
     "text": [
      "1/1 [==============================] - 0s 295ms/step\n"
     ]
    },
    {
     "data": {
      "text/plain": [
       "'isopod : 25.87%'"
      ]
     },
     "execution_count": 15,
     "metadata": {},
     "output_type": "execute_result"
    }
   ],
   "source": [
    "resnet_model.predict(test_image)"
   ]
  },
  {
   "cell_type": "code",
   "execution_count": 16,
   "metadata": {},
   "outputs": [
    {
     "name": "stdout",
     "output_type": "stream",
     "text": [
      "1/1 [==============================] - 1s 1s/step\n"
     ]
    },
    {
     "data": {
      "text/plain": [
       "'revolver : 9.33%'"
      ]
     },
     "execution_count": 16,
     "metadata": {},
     "output_type": "execute_result"
    }
   ],
   "source": [
    "densenet_model.predict(test_image)"
   ]
  },
  {
   "cell_type": "markdown",
   "metadata": {},
   "source": [
    "As you can see, the models have given predictions for the test image, with a confidence score. Check out the code in the [model repo](https://github.com/alan-turing-institute/scivision_classifier) to see how this was determined!"
   ]
  },
  {
   "cell_type": "markdown",
   "metadata": {},
   "source": [
    "## Query the default scivision model catalog\n",
    "\n",
    "Using our test Koala image dataset, let's search the scivision default catalog for other models that can be used with it:"
   ]
  },
  {
   "cell_type": "code",
   "execution_count": 17,
   "metadata": {},
   "outputs": [
    {
     "data": {
      "text/html": [
       "<div>\n",
       "<style scoped>\n",
       "    .dataframe tbody tr th:only-of-type {\n",
       "        vertical-align: middle;\n",
       "    }\n",
       "\n",
       "    .dataframe tbody tr th {\n",
       "        vertical-align: top;\n",
       "    }\n",
       "\n",
       "    .dataframe thead th {\n",
       "        text-align: right;\n",
       "    }\n",
       "</style>\n",
       "<table border=\"1\" class=\"dataframe\">\n",
       "  <thead>\n",
       "    <tr style=\"text-align: right;\">\n",
       "      <th></th>\n",
       "      <th>name</th>\n",
       "      <th>description</th>\n",
       "      <th>tasks</th>\n",
       "      <th>url</th>\n",
       "      <th>pkg_url</th>\n",
       "      <th>format</th>\n",
       "      <th>pretrained</th>\n",
       "      <th>labels_required</th>\n",
       "      <th>institution</th>\n",
       "      <th>tags</th>\n",
       "    </tr>\n",
       "  </thead>\n",
       "  <tbody>\n",
       "    <tr>\n",
       "      <th>0</th>\n",
       "      <td>model-000</td>\n",
       "      <td>None</td>\n",
       "      <td>(TaskEnum.object_detection, TaskEnum.segmentat...</td>\n",
       "      <td>https://github.com/stardist/stardist</td>\n",
       "      <td>git+https://github.com/stardist/stardist.git@main</td>\n",
       "      <td>image</td>\n",
       "      <td>True</td>\n",
       "      <td>True</td>\n",
       "      <td>(epfl,)</td>\n",
       "      <td>(2D, 3D, optical-microscopy, xray, microtomogr...</td>\n",
       "    </tr>\n",
       "    <tr>\n",
       "      <th>1</th>\n",
       "      <td>model-001</td>\n",
       "      <td>None</td>\n",
       "      <td>(TaskEnum.segmentation, TaskEnum.thresholding,...</td>\n",
       "      <td>https://github.com/danforthcenter/plantcv</td>\n",
       "      <td>git+https://github.com/danforthcenter/plantcv@...</td>\n",
       "      <td>image</td>\n",
       "      <td>True</td>\n",
       "      <td>True</td>\n",
       "      <td>(danforthcenter,)</td>\n",
       "      <td>(2D, hyperspectral, multispectral, near-infrar...</td>\n",
       "    </tr>\n",
       "    <tr>\n",
       "      <th>4</th>\n",
       "      <td>scivision-test-plugin</td>\n",
       "      <td>None</td>\n",
       "      <td>(TaskEnum.object_detection,)</td>\n",
       "      <td>https://github.com/alan-turing-institute/scivi...</td>\n",
       "      <td>git+https://github.com/alan-turing-institute/s...</td>\n",
       "      <td>image</td>\n",
       "      <td>True</td>\n",
       "      <td>False</td>\n",
       "      <td>(alan-turing-institute,)</td>\n",
       "      <td>(dummy,)</td>\n",
       "    </tr>\n",
       "    <tr>\n",
       "      <th>5</th>\n",
       "      <td>mapreader-plant</td>\n",
       "      <td>automated detection of plant patches in images...</td>\n",
       "      <td>(TaskEnum.classificiation, TaskEnum.object_det...</td>\n",
       "      <td>https://github.com/alan-turing-institute/mapre...</td>\n",
       "      <td>git+https://github.com/alan-turing-institute/m...</td>\n",
       "      <td>image</td>\n",
       "      <td>True</td>\n",
       "      <td>False</td>\n",
       "      <td>(alan-turing-institute,)</td>\n",
       "      <td>(2D, plant, phenotype, rgb, biology, agriculture)</td>\n",
       "    </tr>\n",
       "    <tr>\n",
       "      <th>6</th>\n",
       "      <td>resnet50-plantkton</td>\n",
       "      <td>automated classification of plankton images co...</td>\n",
       "      <td>(TaskEnum.classificiation,)</td>\n",
       "      <td>https://github.com/alan-turing-institute/plank...</td>\n",
       "      <td>git+https://github.com/alan-turing-institute/p...</td>\n",
       "      <td>image</td>\n",
       "      <td>True</td>\n",
       "      <td>False</td>\n",
       "      <td>(alan-turing-institute, cefas, plankton-analyt...</td>\n",
       "      <td>(2D, plankton, ecology, environmental-science)</td>\n",
       "    </tr>\n",
       "    <tr>\n",
       "      <th>8</th>\n",
       "      <td>image-classifiers</td>\n",
       "      <td>None</td>\n",
       "      <td>(TaskEnum.classificiation,)</td>\n",
       "      <td>https://github.com/alan-turing-institute/scivi...</td>\n",
       "      <td>git+https://github.com/alan-turing-institute/s...</td>\n",
       "      <td>image</td>\n",
       "      <td>True</td>\n",
       "      <td>False</td>\n",
       "      <td>(alan-turing-institute,)</td>\n",
       "      <td>(classification, 2D, image)</td>\n",
       "    </tr>\n",
       "    <tr>\n",
       "      <th>9</th>\n",
       "      <td>huggingface-classifiers</td>\n",
       "      <td>None</td>\n",
       "      <td>(TaskEnum.classificiation,)</td>\n",
       "      <td>https://github.com/alan-turing-institute/scivi...</td>\n",
       "      <td>git+https://github.com/alan-turing-institute/s...</td>\n",
       "      <td>image</td>\n",
       "      <td>True</td>\n",
       "      <td>False</td>\n",
       "      <td>(alan-turing-institute, huggingface)</td>\n",
       "      <td>(classification, 2D, image)</td>\n",
       "    </tr>\n",
       "    <tr>\n",
       "      <th>11</th>\n",
       "      <td>huggingface-object-detection</td>\n",
       "      <td>None</td>\n",
       "      <td>(TaskEnum.object_detection,)</td>\n",
       "      <td>https://github.com/alan-turing-institute/scivi...</td>\n",
       "      <td>git+https://github.com/alan-turing-institute/s...</td>\n",
       "      <td>image</td>\n",
       "      <td>True</td>\n",
       "      <td>False</td>\n",
       "      <td>(alan-turing-institute, huggingface)</td>\n",
       "      <td>()</td>\n",
       "    </tr>\n",
       "    <tr>\n",
       "      <th>12</th>\n",
       "      <td>detectreeRGB-forest</td>\n",
       "      <td>None</td>\n",
       "      <td>(TaskEnum.object_detection, TaskEnum.segmentat...</td>\n",
       "      <td>https://github.com/shmh40/detectreeRGB-treecro...</td>\n",
       "      <td>git+https://github.com/shmh40/detectreeRGB-tre...</td>\n",
       "      <td>image</td>\n",
       "      <td>True</td>\n",
       "      <td>False</td>\n",
       "      <td>(cambridge-university,)</td>\n",
       "      <td>(2D, satellite, remote-sensing, ecology, envir...</td>\n",
       "    </tr>\n",
       "  </tbody>\n",
       "</table>\n",
       "</div>"
      ],
      "text/plain": [
       "                            name  \\\n",
       "0                      model-000   \n",
       "1                      model-001   \n",
       "4          scivision-test-plugin   \n",
       "5                mapreader-plant   \n",
       "6             resnet50-plantkton   \n",
       "8              image-classifiers   \n",
       "9        huggingface-classifiers   \n",
       "11  huggingface-object-detection   \n",
       "12           detectreeRGB-forest   \n",
       "\n",
       "                                          description  \\\n",
       "0                                                None   \n",
       "1                                                None   \n",
       "4                                                None   \n",
       "5   automated detection of plant patches in images...   \n",
       "6   automated classification of plankton images co...   \n",
       "8                                                None   \n",
       "9                                                None   \n",
       "11                                               None   \n",
       "12                                               None   \n",
       "\n",
       "                                                tasks  \\\n",
       "0   (TaskEnum.object_detection, TaskEnum.segmentat...   \n",
       "1   (TaskEnum.segmentation, TaskEnum.thresholding,...   \n",
       "4                        (TaskEnum.object_detection,)   \n",
       "5   (TaskEnum.classificiation, TaskEnum.object_det...   \n",
       "6                         (TaskEnum.classificiation,)   \n",
       "8                         (TaskEnum.classificiation,)   \n",
       "9                         (TaskEnum.classificiation,)   \n",
       "11                       (TaskEnum.object_detection,)   \n",
       "12  (TaskEnum.object_detection, TaskEnum.segmentat...   \n",
       "\n",
       "                                                  url  \\\n",
       "0                https://github.com/stardist/stardist   \n",
       "1           https://github.com/danforthcenter/plantcv   \n",
       "4   https://github.com/alan-turing-institute/scivi...   \n",
       "5   https://github.com/alan-turing-institute/mapre...   \n",
       "6   https://github.com/alan-turing-institute/plank...   \n",
       "8   https://github.com/alan-turing-institute/scivi...   \n",
       "9   https://github.com/alan-turing-institute/scivi...   \n",
       "11  https://github.com/alan-turing-institute/scivi...   \n",
       "12  https://github.com/shmh40/detectreeRGB-treecro...   \n",
       "\n",
       "                                              pkg_url format  pretrained  \\\n",
       "0   git+https://github.com/stardist/stardist.git@main  image        True   \n",
       "1   git+https://github.com/danforthcenter/plantcv@...  image        True   \n",
       "4   git+https://github.com/alan-turing-institute/s...  image        True   \n",
       "5   git+https://github.com/alan-turing-institute/m...  image        True   \n",
       "6   git+https://github.com/alan-turing-institute/p...  image        True   \n",
       "8   git+https://github.com/alan-turing-institute/s...  image        True   \n",
       "9   git+https://github.com/alan-turing-institute/s...  image        True   \n",
       "11  git+https://github.com/alan-turing-institute/s...  image        True   \n",
       "12  git+https://github.com/shmh40/detectreeRGB-tre...  image        True   \n",
       "\n",
       "    labels_required                                        institution  \\\n",
       "0              True                                            (epfl,)   \n",
       "1              True                                  (danforthcenter,)   \n",
       "4             False                           (alan-turing-institute,)   \n",
       "5             False                           (alan-turing-institute,)   \n",
       "6             False  (alan-turing-institute, cefas, plankton-analyt...   \n",
       "8             False                           (alan-turing-institute,)   \n",
       "9             False               (alan-turing-institute, huggingface)   \n",
       "11            False               (alan-turing-institute, huggingface)   \n",
       "12            False                            (cambridge-university,)   \n",
       "\n",
       "                                                 tags  \n",
       "0   (2D, 3D, optical-microscopy, xray, microtomogr...  \n",
       "1   (2D, hyperspectral, multispectral, near-infrar...  \n",
       "4                                            (dummy,)  \n",
       "5   (2D, plant, phenotype, rgb, biology, agriculture)  \n",
       "6      (2D, plankton, ecology, environmental-science)  \n",
       "8                         (classification, 2D, image)  \n",
       "9                         (classification, 2D, image)  \n",
       "11                                                 ()  \n",
       "12  (2D, satellite, remote-sensing, ecology, envir...  "
      ]
     },
     "execution_count": 17,
     "metadata": {},
     "output_type": "execute_result"
    }
   ],
   "source": [
    "compatible_models = default_catalog.compatible_models(\"data-003\").to_dataframe()\n",
    "compatible_models"
   ]
  },
  {
   "cell_type": "markdown",
   "metadata": {},
   "source": [
    "The `huggingface-classifiers` catalog entry can be used to load some of the most popular image classification models from [Hugging Face](https://huggingface.co/models?pipeline_tag=image-classification&sort=downloads). See the list of included models in the [model repo](https://github.com/alan-turing-institute/scivision_huggingface). As before, let's load one of the named models and run it on our test image:"
   ]
  },
  {
   "cell_type": "code",
   "execution_count": 18,
   "metadata": {},
   "outputs": [
    {
     "name": "stderr",
     "output_type": "stream",
     "text": [
      "/Users/pwochner/opt/miniconda3/envs/scivision/lib/python3.9/site-packages/torch/functional.py:478: UserWarning: torch.meshgrid: in an upcoming release, it will be required to pass the indexing argument. (Triggered internally at  /Users/runner/work/pytorch/pytorch/pytorch/aten/src/ATen/native/TensorShape.cpp:2895.)\n",
      "  return _VF.meshgrid(tensors, **kwargs)  # type: ignore[attr-defined]\n"
     ]
    }
   ],
   "source": [
    "huggingface_repo = models_catalog[models_catalog.name == \"huggingface-classifiers\"].url.item()\n",
    "microsoft_model = load_pretrained_model(huggingface_repo, model='microsoft_swin_tiny_patch4_window7_224', allow_install=True)"
   ]
  },
  {
   "cell_type": "code",
   "execution_count": 19,
   "metadata": {},
   "outputs": [
    {
     "data": {
      "text/plain": [
       "'Predicted class: isopod'"
      ]
     },
     "execution_count": 19,
     "metadata": {},
     "output_type": "execute_result"
    }
   ],
   "source": [
    "microsoft_model.predict(test_image)"
   ]
  }
 ],
 "metadata": {
  "kernelspec": {
   "display_name": "Python 3 (ipykernel)",
   "language": "python",
   "name": "python3"
  },
  "language_info": {
   "codemirror_mode": {
    "name": "ipython",
    "version": 3
   },
   "file_extension": ".py",
   "mimetype": "text/x-python",
   "name": "python",
   "nbconvert_exporter": "python",
   "pygments_lexer": "ipython3",
   "version": "3.9.13"
  }
 },
 "nbformat": 4,
 "nbformat_minor": 4
}
