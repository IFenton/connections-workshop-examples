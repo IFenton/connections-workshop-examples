{
 "cells": [
  {
   "cell_type": "markdown",
   "id": "e1079816",
   "metadata": {},
   "source": [
    "This notebook is adapted from the \"how-to-use-scivision\" notebook in the repository https://github.com/scivision-gallery/scivision_examples to be used in the Turing REG/RDS Connections Workshop.\n",
    "The purpose is to use the honeybee dataset and pretrained model that will have been added to the Scivision catalog."
   ]
  },
  {
   "cell_type": "code",
   "execution_count": null,
   "id": "5812ba7b",
   "metadata": {},
   "outputs": [],
   "source": [
    "from scivision import default_catalog, load_pretrained_model"
   ]
  },
  {
   "cell_type": "markdown",
   "id": "6a3a65c9",
   "metadata": {},
   "source": [
    "Construct a dataframe containing the contents of the models catalog:"
   ]
  },
  {
   "cell_type": "code",
   "execution_count": null,
   "id": "3961a3ac",
   "metadata": {},
   "outputs": [],
   "source": [
    "models_catalog = default_catalog.models.to_dataframe()\n",
    "models_catalog"
   ]
  },
  {
   "cell_type": "markdown",
   "id": "ab2cd7a1",
   "metadata": {},
   "source": [
    "Our newly-added \"bee-species\" model is there as the last entry.  We can use the \"url\" column, specifying the Github repo that contains the model, to load the model itself: "
   ]
  },
  {
   "cell_type": "code",
   "execution_count": null,
   "id": "bf26a010",
   "metadata": {},
   "outputs": [],
   "source": [
    "# Inspecting model entry and its metadata in the default catalog\n",
    "model_repo = models_catalog[models_catalog.name == \"bee-species\"].url.item()\n",
    "model = load_pretrained_model(model_repo, model='efficientNetB3', allow_install=True)"
   ]
  },
  {
   "cell_type": "markdown",
   "id": "5e0e33c0",
   "metadata": {},
   "source": [
    "How did we know to use \"efficientNetB3\" as the model name in the command above?   Good question!!  This is the name of the class defined in `model.py` in the model_repo.  Not sure if that name is available through the scivision interface."
   ]
  },
  {
   "cell_type": "markdown",
   "id": "1f7c3038",
   "metadata": {},
   "source": [
    "Now we will search the catalog again for data sources that are compatible with our model.   By \"compatible\", we mean that the dataset is suitable for the \"tasks\" that the model can perform."
   ]
  },
  {
   "cell_type": "code",
   "execution_count": null,
   "id": "43322db2",
   "metadata": {},
   "outputs": [],
   "source": [
    "compatible_datasources = default_catalog.compatible_datasources(\"bee-species\").to_dataframe()\n",
    "compatible_datasources"
   ]
  },
  {
   "cell_type": "markdown",
   "id": "22734ecd",
   "metadata": {},
   "source": [
    "Happily, our newly-added bee dataset is there.  We can use the \"url\" column to load the dataset:"
   ]
  },
  {
   "cell_type": "code",
   "execution_count": null,
   "id": "e4db2e57",
   "metadata": {},
   "outputs": [],
   "source": [
    "target_datasource = compatible_datasources.loc[compatible_datasources['name'] == 'data-007']\n",
    "data_url = target_datasource['url'].item()"
   ]
  },
  {
   "cell_type": "code",
   "execution_count": null,
   "id": "ae718b2e",
   "metadata": {},
   "outputs": [],
   "source": [
    "from scivision import load_dataset\n",
    "data_config = load_dataset(data_url)\n",
    "data_config"
   ]
  },
  {
   "cell_type": "markdown",
   "id": "a6bb5f73",
   "metadata": {},
   "source": [
    "Now, using Intake and Dask, we get the images themselves in a form that we can iterate over."
   ]
  },
  {
   "cell_type": "code",
   "execution_count": null,
   "id": "c962374f",
   "metadata": {},
   "outputs": [],
   "source": [
    "images = data_config.honeybee().to_dask()"
   ]
  },
  {
   "cell_type": "markdown",
   "id": "544161bf",
   "metadata": {},
   "source": [
    "We can take a look at an example image using matplotlib's imshow function:"
   ]
  },
  {
   "cell_type": "code",
   "execution_count": null,
   "id": "a0ca1722",
   "metadata": {},
   "outputs": [],
   "source": [
    "import matplotlib.pyplot as plt\n",
    "plt.imshow(images[44])"
   ]
  },
  {
   "cell_type": "markdown",
   "id": "840095f9",
   "metadata": {},
   "source": [
    "And finally, we can run our model on this image, to see what category it predicts for it:"
   ]
  },
  {
   "cell_type": "code",
   "execution_count": null,
   "id": "ef885caf",
   "metadata": {},
   "outputs": [],
   "source": [
    "## This step seems pretty flaky - if we first try to predict in image that is bigger than (70,70), it complains.  \n",
    "## if we then do one that is smaller than (70,70) and then do one any size, it seems to work! :( \n",
    "model.predict(images[0])"
   ]
  },
  {
   "cell_type": "markdown",
   "id": "ee3c7c98",
   "metadata": {},
   "source": [
    "In fact, for this dataset, we do also have the true labels in a CSV file along with the image zipfile in Zenodo.\n",
    "We can download this, and could potentially use it to see how often our model got the correct label.\n"
   ]
  },
  {
   "cell_type": "code",
   "execution_count": null,
   "id": "5306da86",
   "metadata": {},
   "outputs": [],
   "source": [
    "import pandas as pd\n",
    "df = pd.read_csv(\"https://zenodo.org/record/7101934/files/bee_data.csv?download=1\")\n",
    "true_labels = df.subspecies.values"
   ]
  }
 ],
 "metadata": {
  "kernelspec": {
   "display_name": "Python 3 (ipykernel)",
   "language": "python",
   "name": "python3"
  },
  "language_info": {
   "codemirror_mode": {
    "name": "ipython",
    "version": 3
   },
   "file_extension": ".py",
   "mimetype": "text/x-python",
   "name": "python",
   "nbconvert_exporter": "python",
   "pygments_lexer": "ipython3",
   "version": "3.9.13"
  }
 },
 "nbformat": 4,
 "nbformat_minor": 5
}
