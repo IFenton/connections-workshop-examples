{
 "cells": [
  {
   "cell_type": "markdown",
   "id": "770351d3",
   "metadata": {},
   "source": [
    "## Loading a dataset into Scivision\n",
    "\n",
    "Example of loading the BeeImage dataset."
   ]
  },
  {
   "cell_type": "code",
   "execution_count": 1,
   "id": "502b1405",
   "metadata": {},
   "outputs": [],
   "source": [
    "from scivision import default_catalog"
   ]
  },
  {
   "cell_type": "code",
   "execution_count": 2,
   "id": "e95645da",
   "metadata": {},
   "outputs": [
    {
     "data": {
      "text/html": [
       "<div>\n",
       "<style scoped>\n",
       "    .dataframe tbody tr th:only-of-type {\n",
       "        vertical-align: middle;\n",
       "    }\n",
       "\n",
       "    .dataframe tbody tr th {\n",
       "        vertical-align: top;\n",
       "    }\n",
       "\n",
       "    .dataframe thead th {\n",
       "        text-align: right;\n",
       "    }\n",
       "</style>\n",
       "<table border=\"1\" class=\"dataframe\">\n",
       "  <thead>\n",
       "    <tr style=\"text-align: right;\">\n",
       "      <th></th>\n",
       "      <th>name</th>\n",
       "      <th>description</th>\n",
       "      <th>tasks</th>\n",
       "      <th>domains</th>\n",
       "      <th>url</th>\n",
       "      <th>format</th>\n",
       "      <th>labels_provided</th>\n",
       "      <th>institution</th>\n",
       "      <th>tags</th>\n",
       "    </tr>\n",
       "  </thead>\n",
       "  <tbody>\n",
       "    <tr>\n",
       "      <th>2</th>\n",
       "      <td>data-002</td>\n",
       "      <td>None</td>\n",
       "      <td>(TaskEnum.classificiation,)</td>\n",
       "      <td>(oceanography,)</td>\n",
       "      <td>https://github.com/scotthosking/intake-plankto...</td>\n",
       "      <td>image</td>\n",
       "      <td>True</td>\n",
       "      <td>(CEFAS,)</td>\n",
       "      <td>(help-needed, 2D)</td>\n",
       "    </tr>\n",
       "    <tr>\n",
       "      <th>3</th>\n",
       "      <td>data-003</td>\n",
       "      <td>Koala</td>\n",
       "      <td>(TaskEnum.object_detection, TaskEnum.classific...</td>\n",
       "      <td>(computer-vision,)</td>\n",
       "      <td>https://github.com/alan-turing-institute/scivi...</td>\n",
       "      <td>image</td>\n",
       "      <td>True</td>\n",
       "      <td>(Wikipedia by Erik Veland,)</td>\n",
       "      <td>(demo,)</td>\n",
       "    </tr>\n",
       "    <tr>\n",
       "      <th>4</th>\n",
       "      <td>data-004</td>\n",
       "      <td>Sample dataset of Plankton required to demonst...</td>\n",
       "      <td>(TaskEnum.classificiation,)</td>\n",
       "      <td>(computer-vision,)</td>\n",
       "      <td>https://raw.githubusercontent.com/alan-turing-...</td>\n",
       "      <td>image</td>\n",
       "      <td>True</td>\n",
       "      <td>(Centre for Environment, Fisheries and Aquacul...</td>\n",
       "      <td>(2D, plankton, ecology, environmental-science)</td>\n",
       "    </tr>\n",
       "    <tr>\n",
       "      <th>5</th>\n",
       "      <td>data-005</td>\n",
       "      <td>Sample dataset of satellite imagery required t...</td>\n",
       "      <td>(TaskEnum.classificiation, TaskEnum.segmentation)</td>\n",
       "      <td>(computer-vision, earth-observation, ecology)</td>\n",
       "      <td>https://github.com/MartinSJRogers/VEdge_Detect...</td>\n",
       "      <td>image</td>\n",
       "      <td>False</td>\n",
       "      <td>(Cambridge University,)</td>\n",
       "      <td>(2D, satellite, remote-sensing, ecology, envir...</td>\n",
       "    </tr>\n",
       "    <tr>\n",
       "      <th>7</th>\n",
       "      <td>data-007</td>\n",
       "      <td>A labelled dataset of honeybee images, from Ka...</td>\n",
       "      <td>(TaskEnum.classificiation,)</td>\n",
       "      <td>(nature, insects, bee-keeping)</td>\n",
       "      <td>https://github.com/nbarlowATI/honeybee_data_repo</td>\n",
       "      <td>image</td>\n",
       "      <td>True</td>\n",
       "      <td>(alan-turing-institute,)</td>\n",
       "      <td>(bees, biology, classification)</td>\n",
       "    </tr>\n",
       "  </tbody>\n",
       "</table>\n",
       "</div>"
      ],
      "text/plain": [
       "       name                                        description  \\\n",
       "2  data-002                                               None   \n",
       "3  data-003                                              Koala   \n",
       "4  data-004  Sample dataset of Plankton required to demonst...   \n",
       "5  data-005  Sample dataset of satellite imagery required t...   \n",
       "7  data-007  A labelled dataset of honeybee images, from Ka...   \n",
       "\n",
       "                                               tasks  \\\n",
       "2                        (TaskEnum.classificiation,)   \n",
       "3  (TaskEnum.object_detection, TaskEnum.classific...   \n",
       "4                        (TaskEnum.classificiation,)   \n",
       "5  (TaskEnum.classificiation, TaskEnum.segmentation)   \n",
       "7                        (TaskEnum.classificiation,)   \n",
       "\n",
       "                                         domains  \\\n",
       "2                                (oceanography,)   \n",
       "3                             (computer-vision,)   \n",
       "4                             (computer-vision,)   \n",
       "5  (computer-vision, earth-observation, ecology)   \n",
       "7                 (nature, insects, bee-keeping)   \n",
       "\n",
       "                                                 url format  labels_provided  \\\n",
       "2  https://github.com/scotthosking/intake-plankto...  image             True   \n",
       "3  https://github.com/alan-turing-institute/scivi...  image             True   \n",
       "4  https://raw.githubusercontent.com/alan-turing-...  image             True   \n",
       "5  https://github.com/MartinSJRogers/VEdge_Detect...  image            False   \n",
       "7   https://github.com/nbarlowATI/honeybee_data_repo  image             True   \n",
       "\n",
       "                                         institution  \\\n",
       "2                                           (CEFAS,)   \n",
       "3                        (Wikipedia by Erik Veland,)   \n",
       "4  (Centre for Environment, Fisheries and Aquacul...   \n",
       "5                            (Cambridge University,)   \n",
       "7                           (alan-turing-institute,)   \n",
       "\n",
       "                                                tags  \n",
       "2                                  (help-needed, 2D)  \n",
       "3                                            (demo,)  \n",
       "4     (2D, plankton, ecology, environmental-science)  \n",
       "5  (2D, satellite, remote-sensing, ecology, envir...  \n",
       "7                    (bees, biology, classification)  "
      ]
     },
     "execution_count": 2,
     "metadata": {},
     "output_type": "execute_result"
    }
   ],
   "source": [
    "compatible_datasources = default_catalog.compatible_datasources(\"image-classifiers\").to_dataframe()\n",
    "compatible_datasources"
   ]
  },
  {
   "cell_type": "code",
   "execution_count": 3,
   "id": "8f3bca86",
   "metadata": {},
   "outputs": [
    {
     "data": {
      "text/html": [
       "<div>\n",
       "<style scoped>\n",
       "    .dataframe tbody tr th:only-of-type {\n",
       "        vertical-align: middle;\n",
       "    }\n",
       "\n",
       "    .dataframe tbody tr th {\n",
       "        vertical-align: top;\n",
       "    }\n",
       "\n",
       "    .dataframe thead th {\n",
       "        text-align: right;\n",
       "    }\n",
       "</style>\n",
       "<table border=\"1\" class=\"dataframe\">\n",
       "  <thead>\n",
       "    <tr style=\"text-align: right;\">\n",
       "      <th></th>\n",
       "      <th>name</th>\n",
       "      <th>description</th>\n",
       "      <th>tasks</th>\n",
       "      <th>domains</th>\n",
       "      <th>url</th>\n",
       "      <th>format</th>\n",
       "      <th>labels_provided</th>\n",
       "      <th>institution</th>\n",
       "      <th>tags</th>\n",
       "    </tr>\n",
       "  </thead>\n",
       "  <tbody>\n",
       "    <tr>\n",
       "      <th>7</th>\n",
       "      <td>data-007</td>\n",
       "      <td>A labelled dataset of honeybee images, from Ka...</td>\n",
       "      <td>(TaskEnum.classificiation,)</td>\n",
       "      <td>(nature, insects, bee-keeping)</td>\n",
       "      <td>https://github.com/nbarlowATI/honeybee_data_repo</td>\n",
       "      <td>image</td>\n",
       "      <td>True</td>\n",
       "      <td>(alan-turing-institute,)</td>\n",
       "      <td>(bees, biology, classification)</td>\n",
       "    </tr>\n",
       "  </tbody>\n",
       "</table>\n",
       "</div>"
      ],
      "text/plain": [
       "       name                                        description  \\\n",
       "7  data-007  A labelled dataset of honeybee images, from Ka...   \n",
       "\n",
       "                         tasks                         domains  \\\n",
       "7  (TaskEnum.classificiation,)  (nature, insects, bee-keeping)   \n",
       "\n",
       "                                                url format  labels_provided  \\\n",
       "7  https://github.com/nbarlowATI/honeybee_data_repo  image             True   \n",
       "\n",
       "                institution                             tags  \n",
       "7  (alan-turing-institute,)  (bees, biology, classification)  "
      ]
     },
     "execution_count": 3,
     "metadata": {},
     "output_type": "execute_result"
    }
   ],
   "source": [
    "target_datasource = compatible_datasources.loc[compatible_datasources['name'] == 'data-007']\n",
    "target_datasource"
   ]
  },
  {
   "cell_type": "code",
   "execution_count": 4,
   "id": "f5816f38",
   "metadata": {},
   "outputs": [],
   "source": [
    "from scivision import load_dataset"
   ]
  },
  {
   "cell_type": "code",
   "execution_count": 5,
   "id": "ee3ab789",
   "metadata": {},
   "outputs": [
    {
     "data": {
      "text/plain": [
       "AnyUrl('https://github.com/nbarlowATI/honeybee_data_repo', scheme='https', host='github.com', tld='com', host_type='domain', path='/nbarlowATI/honeybee_data_repo')"
      ]
     },
     "execution_count": 5,
     "metadata": {},
     "output_type": "execute_result"
    }
   ],
   "source": [
    "data_url = target_datasource['url'].item()\n",
    "data_url"
   ]
  },
  {
   "cell_type": "code",
   "execution_count": 6,
   "id": "7d2025b0",
   "metadata": {},
   "outputs": [
    {
     "data": {
      "application/yaml": "data:\n  args:\n    path: https://raw.githubusercontent.com/nbarlowATI/honeybee_data_repo/main/.scivision/data.yml\n  description: ''\n  driver: intake.catalog.local.YAMLFileCatalog\n  metadata: {}\n",
      "text/plain": [
       "data:\n",
       "  args:\n",
       "    path: https://raw.githubusercontent.com/nbarlowATI/honeybee_data_repo/main/.scivision/data.yml\n",
       "  description: ''\n",
       "  driver: intake.catalog.local.YAMLFileCatalog\n",
       "  metadata: {}\n"
      ]
     },
     "metadata": {
      "application/json": {
       "root": "data"
      }
     },
     "output_type": "display_data"
    }
   ],
   "source": [
    "data_config = load_dataset(data_url)\n",
    "data_config"
   ]
  },
  {
   "cell_type": "code",
   "execution_count": 7,
   "id": "3a28d641",
   "metadata": {},
   "outputs": [
    {
     "name": "stderr",
     "output_type": "stream",
     "text": [
      "/Users/nbarlow/miniforge3/envs/kaggle-bee-env/lib/python3.8/site-packages/xarray/core/dataarray.py:1195: FutureWarning: None value for 'chunks' is deprecated. It will raise an error in the future. Use instead '{}'\n",
      "  warnings.warn(\n"
     ]
    }
   ],
   "source": [
    "images = data_config.honeybee().to_dask()"
   ]
  },
  {
   "cell_type": "code",
   "execution_count": 8,
   "id": "51cd0ce5",
   "metadata": {},
   "outputs": [],
   "source": [
    "test_image = images[1]"
   ]
  },
  {
   "cell_type": "code",
   "execution_count": 9,
   "id": "acb82408",
   "metadata": {},
   "outputs": [
    {
     "data": {
      "text/plain": [
       "<matplotlib.image.AxesImage at 0x28a986070>"
      ]
     },
     "execution_count": 9,
     "metadata": {},
     "output_type": "execute_result"
    },
    {
     "data": {
      "image/png": "[encoded data removed]",
      "text/plain": [
       "<Figure size 640x480 with 1 Axes>"
      ]
     },
     "metadata": {},
     "output_type": "display_data"
    }
   ],
   "source": [
    "import matplotlib.pyplot as plt\n",
    "plt.imshow(test_image)"
   ]
  },
  {
   "cell_type": "code",
   "execution_count": null,
   "id": "d4df1d79",
   "metadata": {},
   "outputs": [],
   "source": []
  }
 ],
 "metadata": {
  "kernelspec": {
   "display_name": "Python 3 (ipykernel)",
   "language": "python",
   "name": "python3"
  },
  "language_info": {
   "codemirror_mode": {
    "name": "ipython",
    "version": 3
   },
   "file_extension": ".py",
   "mimetype": "text/x-python",
   "name": "python",
   "nbconvert_exporter": "python",
   "pygments_lexer": "ipython3",
   "version": "3.8.13"
  }
 },
 "nbformat": 4,
 "nbformat_minor": 5
}
